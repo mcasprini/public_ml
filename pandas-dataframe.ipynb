{
 "cells": [
  {
   "cell_type": "code",
<<<<<<< HEAD
   "execution_count": 7,
=======
   "execution_count": 46,
>>>>>>> a6d271dad3aa18c954c05b81e7954a93370994ed
   "metadata": {},
   "outputs": [],
   "source": [
    "import pandas as pd\n",
    "import numpy as np"
   ]
  },
  {
   "cell_type": "code",
<<<<<<< HEAD
   "execution_count": 13,
   "metadata": {},
   "outputs": [
    {
     "name": "stdout",
     "output_type": "stream",
     "text": [
      "5.0\n"
     ]
    }
   ],
   "source": [
    "miaserie = pd.Series([4, 5, 6.5, 7],index=['primo','secondo','terzo','quarto'])\n",
    "miaserie\n",
    "print(miaserie['secondo'])"
=======
   "execution_count": 50,
   "metadata": {},
   "outputs": [
    {
     "data": {
      "text/plain": [
       "5.0"
      ]
     },
     "execution_count": 50,
     "metadata": {},
     "output_type": "execute_result"
    }
   ],
   "source": [
    "miaserie = pd.Series([4, 5, 6.5, 7], index=['primo', 'secondo', 'terzo', 'quarto'])\n",
    "miaserie['secondo']"
>>>>>>> a6d271dad3aa18c954c05b81e7954a93370994ed
   ]
  },
  {
   "cell_type": "code",
<<<<<<< HEAD
   "execution_count": 15,
=======
   "execution_count": 54,
>>>>>>> a6d271dad3aa18c954c05b81e7954a93370994ed
   "metadata": {},
   "outputs": [],
   "source": [
    "d = {'one': pd.Series([1., 2., 3.], index=['a', 'b', 'c']), #serie: strutt dati omogenea\n",
    "   ....:      'two': pd.Series([1., 2., 3., 4.], index=['a', 'b', 'c', 'd'])}"
   ]
  },
  {
   "cell_type": "code",
<<<<<<< HEAD
   "execution_count": 16,
=======
   "execution_count": 55,
   "metadata": {},
   "outputs": [
    {
     "data": {
      "text/plain": [
       "0    1.0\n",
       "1    2.0\n",
       "2    4.5\n",
       "3    8.0\n",
       "dtype: float64"
      ]
     },
     "execution_count": 55,
     "metadata": {},
     "output_type": "execute_result"
    }
   ],
   "source": [
    "nonomog = pd.Series([1, 2, 4.5, 8])\n",
    "nonomog"
   ]
  },
  {
   "cell_type": "code",
   "execution_count": 12,
>>>>>>> a6d271dad3aa18c954c05b81e7954a93370994ed
   "metadata": {},
   "outputs": [
    {
     "data": {
      "text/plain": [
       "a    2.0\n",
       "b    4.0\n",
       "c    6.0\n",
       "d    NaN\n",
       "dtype: float64"
      ]
     },
<<<<<<< HEAD
     "execution_count": 16,
=======
     "execution_count": 12,
>>>>>>> a6d271dad3aa18c954c05b81e7954a93370994ed
     "metadata": {},
     "output_type": "execute_result"
    }
   ],
   "source": [
    "d['two']+d['one']"
   ]
  },
  {
   "cell_type": "code",
<<<<<<< HEAD
   "execution_count": 21,
=======
   "execution_count": 57,
>>>>>>> a6d271dad3aa18c954c05b81e7954a93370994ed
   "metadata": {},
   "outputs": [
    {
     "data": {
      "text/plain": [
       "a    3.0\n",
       "b    3.0\n",
       "c    NaN\n",
       "d    NaN\n",
       "dtype: float64"
      ]
     },
<<<<<<< HEAD
     "execution_count": 21,
=======
     "execution_count": 57,
>>>>>>> a6d271dad3aa18c954c05b81e7954a93370994ed
     "metadata": {},
     "output_type": "execute_result"
    }
   ],
   "source": [
    "ser1 = pd.Series([1, 2, 3], index=['b', 'a', 'c'])\n",
    "ser2 = pd.Series([1, 2, 3], index=['a', 'b', 'd'])\n",
<<<<<<< HEAD
    "ser1 + ser2 #somma gli indici, dove index non presente mette NaN (nullo)"
=======
    "ser1 + ser2"
>>>>>>> a6d271dad3aa18c954c05b81e7954a93370994ed
   ]
  },
  {
   "cell_type": "code",
<<<<<<< HEAD
   "execution_count": 22,
=======
   "execution_count": 58,
>>>>>>> a6d271dad3aa18c954c05b81e7954a93370994ed
   "metadata": {},
   "outputs": [],
   "source": [
    "df = pd.DataFrame(d)"
   ]
  },
  {
   "cell_type": "code",
<<<<<<< HEAD
   "execution_count": 23,
=======
   "execution_count": 59,
>>>>>>> a6d271dad3aa18c954c05b81e7954a93370994ed
   "metadata": {},
   "outputs": [
    {
     "data": {
      "text/html": [
       "<div>\n",
       "<style scoped>\n",
       "    .dataframe tbody tr th:only-of-type {\n",
       "        vertical-align: middle;\n",
       "    }\n",
       "\n",
       "    .dataframe tbody tr th {\n",
       "        vertical-align: top;\n",
       "    }\n",
       "\n",
       "    .dataframe thead th {\n",
       "        text-align: right;\n",
       "    }\n",
       "</style>\n",
       "<table border=\"1\" class=\"dataframe\">\n",
       "  <thead>\n",
       "    <tr style=\"text-align: right;\">\n",
       "      <th></th>\n",
       "      <th>one</th>\n",
       "      <th>two</th>\n",
       "    </tr>\n",
       "  </thead>\n",
       "  <tbody>\n",
       "    <tr>\n",
       "      <th>a</th>\n",
       "      <td>1.0</td>\n",
       "      <td>1.0</td>\n",
       "    </tr>\n",
       "    <tr>\n",
       "      <th>b</th>\n",
       "      <td>2.0</td>\n",
       "      <td>2.0</td>\n",
       "    </tr>\n",
       "    <tr>\n",
       "      <th>c</th>\n",
       "      <td>3.0</td>\n",
       "      <td>3.0</td>\n",
       "    </tr>\n",
       "    <tr>\n",
       "      <th>d</th>\n",
       "      <td>NaN</td>\n",
       "      <td>4.0</td>\n",
       "    </tr>\n",
       "  </tbody>\n",
       "</table>\n",
       "</div>"
      ],
      "text/plain": [
       "   one  two\n",
       "a  1.0  1.0\n",
       "b  2.0  2.0\n",
       "c  3.0  3.0\n",
       "d  NaN  4.0"
      ]
     },
<<<<<<< HEAD
     "execution_count": 23,
=======
     "execution_count": 59,
>>>>>>> a6d271dad3aa18c954c05b81e7954a93370994ed
     "metadata": {},
     "output_type": "execute_result"
    }
   ],
   "source": [
    "df"
   ]
  },
  {
   "cell_type": "code",
<<<<<<< HEAD
   "execution_count": 24,
=======
   "execution_count": 60,
>>>>>>> a6d271dad3aa18c954c05b81e7954a93370994ed
   "metadata": {},
   "outputs": [
    {
     "data": {
      "text/plain": [
       "a    1.0\n",
       "b    2.0\n",
       "c    3.0\n",
       "d    NaN\n",
       "Name: one, dtype: float64"
      ]
     },
<<<<<<< HEAD
     "execution_count": 24,
=======
     "execution_count": 60,
>>>>>>> a6d271dad3aa18c954c05b81e7954a93370994ed
     "metadata": {},
     "output_type": "execute_result"
    }
   ],
   "source": [
    "df['one'] # select by column"
   ]
  },
  {
   "cell_type": "code",
<<<<<<< HEAD
   "execution_count": 25,
=======
   "execution_count": 61,
>>>>>>> a6d271dad3aa18c954c05b81e7954a93370994ed
   "metadata": {},
   "outputs": [
    {
     "data": {
      "text/plain": [
       "1.0"
      ]
     },
<<<<<<< HEAD
     "execution_count": 25,
=======
     "execution_count": 61,
>>>>>>> a6d271dad3aa18c954c05b81e7954a93370994ed
     "metadata": {},
     "output_type": "execute_result"
    }
   ],
   "source": [
    "df['one'][0]\n",
    "df['one']['a']"
   ]
  },
  {
   "cell_type": "code",
<<<<<<< HEAD
   "execution_count": 27,
=======
   "execution_count": 21,
>>>>>>> a6d271dad3aa18c954c05b81e7954a93370994ed
   "metadata": {},
   "outputs": [
    {
     "data": {
      "text/plain": [
       "one    2.0\n",
       "two    2.0\n",
       "Name: b, dtype: float64"
      ]
     },
<<<<<<< HEAD
     "execution_count": 27,
=======
     "execution_count": 21,
>>>>>>> a6d271dad3aa18c954c05b81e7954a93370994ed
     "metadata": {},
     "output_type": "execute_result"
    }
   ],
   "source": [
    "df.loc['b'] # select by row label"
   ]
  },
  {
   "cell_type": "code",
   "execution_count": 28,
   "metadata": {},
   "outputs": [
    {
     "data": {
      "text/plain": [
       "one    3.0\n",
       "two    3.0\n",
       "Name: c, dtype: float64"
      ]
     },
     "execution_count": 28,
     "metadata": {},
     "output_type": "execute_result"
    }
   ],
   "source": [
    "df.iloc[2] # select by row index"
   ]
  },
  {
   "cell_type": "code",
<<<<<<< HEAD
   "execution_count": 33,
=======
   "execution_count": 62,
>>>>>>> a6d271dad3aa18c954c05b81e7954a93370994ed
   "metadata": {},
   "outputs": [
    {
     "name": "stdout",
     "output_type": "stream",
     "text": [
      "         0         1         2         3         4         5         6   \\\n",
<<<<<<< HEAD
      "0  0.646127  0.548970  0.268951  0.808461  0.016683  0.014053  0.052033   \n",
      "1  0.409455  0.976651  0.824196  0.951940  0.895509  0.735764  0.603634   \n",
      "2  0.910313  0.112414  0.729188  0.193512  0.110309  0.223972  0.841004   \n",
      "3  0.644635  0.855137  0.407439  0.876810  0.785062  0.674765  0.693297   \n",
      "4  0.529667  0.896260  0.513628  0.526910  0.702960  0.882114  0.067643   \n",
      "\n",
      "         7         8         9   ...        70        71        72        73  \\\n",
      "0  0.084838  0.494624  0.825371  ...  0.478158  0.470431  0.883751  0.342571   \n",
      "1  0.543369  0.705625  0.209135  ...  0.605644  0.885584  0.338813  0.123891   \n",
      "2  0.644774  0.837998  0.808713  ...  0.298656  0.959898  0.199228  0.636856   \n",
      "3  0.657330  0.332971  0.904639  ...  0.689706  0.342264  0.727234  0.110487   \n",
      "4  0.480229  0.072964  0.900047  ...  0.692290  0.426240  0.896656  0.598892   \n",
      "\n",
      "         74        75        76        77        78        79  \n",
      "0  0.294011  0.666198  0.559797  0.735224  0.949951  0.962256  \n",
      "1  0.429194  0.792545  0.212184  0.252959  0.361938  0.225877  \n",
      "2  0.537436  0.917009  0.332496  0.159406  0.409822  0.075421  \n",
      "3  0.490476  0.440006  0.037842  0.558869  0.925828  0.044500  \n",
      "4  0.833821  0.462954  0.954584  0.686412  0.455401  0.743764  \n",
=======
      "0  0.535152  0.095929  0.395406  0.936506  0.211616  0.343637  0.529339   \n",
      "1  0.070010  0.491663  0.906705  0.219558  0.444858  0.050416  0.066870   \n",
      "2  0.343313  0.675234  0.127901  0.088032  0.563167  0.107934  0.030566   \n",
      "3  0.868817  0.436623  0.825485  0.710495  0.757594  0.979150  0.998631   \n",
      "4  0.802051  0.538301  0.622823  0.295235  0.533551  0.924103  0.503972   \n",
      "\n",
      "         7         8         9   ...        70        71        72        73  \\\n",
      "0  0.552649  0.527557  0.684992  ...  0.461948  0.889837  0.468499  0.238012   \n",
      "1  0.620533  0.975998  0.469268  ...  0.804340  0.776403  0.848122  0.007830   \n",
      "2  0.906064  0.365690  0.881340  ...  0.549896  0.326393  0.712379  0.296398   \n",
      "3  0.903271  0.209482  0.877794  ...  0.489182  0.566886  0.690581  0.022470   \n",
      "4  0.124876  0.334606  0.825555  ...  0.802756  0.537186  0.769224  0.760702   \n",
      "\n",
      "         74        75        76        77        78        79  \n",
      "0  0.730350  0.144306  0.037600  0.952389  0.864900  0.097042  \n",
      "1  0.606825  0.532990  0.087372  0.929093  0.821879  0.942547  \n",
      "2  0.000021  0.772670  0.019261  0.390892  0.399992  0.171519  \n",
      "3  0.130966  0.102406  0.493603  0.272449  0.943200  0.939550  \n",
      "4  0.628455  0.917148  0.088545  0.022127  0.217272  0.294769  \n",
>>>>>>> a6d271dad3aa18c954c05b81e7954a93370994ed
      "\n",
      "[5 rows x 80 columns]\n"
     ]
    }
   ],
   "source": [
<<<<<<< HEAD
    "df2 = pd.DataFrame(np.random.rand(5,80))\n",
=======
    "df2 = pd.DataFrame(np.random.rand(5, 80))\n",
>>>>>>> a6d271dad3aa18c954c05b81e7954a93370994ed
    "print(df2)"
   ]
  },
  {
   "cell_type": "code",
<<<<<<< HEAD
   "execution_count": 35,
=======
   "execution_count": 65,
>>>>>>> a6d271dad3aa18c954c05b81e7954a93370994ed
   "metadata": {},
   "outputs": [
    {
     "data": {
      "text/plain": [
<<<<<<< HEAD
       "0    0.268951\n",
       "1    0.824196\n",
       "2    0.729188\n",
       "3    0.407439\n",
       "4    0.513628\n",
       "Name: 2, dtype: float64"
      ]
     },
     "execution_count": 35,
=======
       "0    0.395406\n",
       "1    0.906705\n",
       "2    0.127901\n",
       "3    0.825485\n",
       "4    0.622823\n",
       "Name: 2, dtype: float64"
      ]
     },
     "execution_count": 65,
>>>>>>> a6d271dad3aa18c954c05b81e7954a93370994ed
     "metadata": {},
     "output_type": "execute_result"
    }
   ],
   "source": [
    "df2[2]"
   ]
  },
  {
   "cell_type": "code",
<<<<<<< HEAD
   "execution_count": 37,
   "metadata": {},
   "outputs": [
    {
     "data": {
      "text/html": [
       "<div>\n",
       "<style scoped>\n",
       "    .dataframe tbody tr th:only-of-type {\n",
       "        vertical-align: middle;\n",
       "    }\n",
       "\n",
       "    .dataframe tbody tr th {\n",
       "        vertical-align: top;\n",
       "    }\n",
       "\n",
       "    .dataframe thead th {\n",
       "        text-align: right;\n",
       "    }\n",
       "</style>\n",
       "<table border=\"1\" class=\"dataframe\">\n",
       "  <thead>\n",
       "    <tr style=\"text-align: right;\">\n",
       "      <th></th>\n",
       "      <th>one</th>\n",
       "      <th>two</th>\n",
       "    </tr>\n",
       "  </thead>\n",
       "  <tbody>\n",
       "    <tr>\n",
       "      <th>b</th>\n",
       "      <td>2.0</td>\n",
       "      <td>2.0</td>\n",
       "    </tr>\n",
       "  </tbody>\n",
       "</table>\n",
       "</div>"
      ],
      "text/plain": [
       "   one  two\n",
       "b  2.0  2.0"
      ]
     },
     "execution_count": 37,
     "metadata": {},
     "output_type": "execute_result"
    }
   ],
   "source": [
    "df.loc[(df['one']>1) & (df['two']<3)]"
   ]
  },
  {
   "cell_type": "code",
   "execution_count": 38,
=======
   "execution_count": 45,
>>>>>>> a6d271dad3aa18c954c05b81e7954a93370994ed
   "metadata": {},
   "outputs": [
    {
     "data": {
      "text/html": [
       "<div>\n",
       "<style scoped>\n",
       "    .dataframe tbody tr th:only-of-type {\n",
       "        vertical-align: middle;\n",
       "    }\n",
       "\n",
       "    .dataframe tbody tr th {\n",
       "        vertical-align: top;\n",
       "    }\n",
       "\n",
       "    .dataframe thead th {\n",
       "        text-align: right;\n",
       "    }\n",
       "</style>\n",
       "<table border=\"1\" class=\"dataframe\">\n",
       "  <thead>\n",
       "    <tr style=\"text-align: right;\">\n",
       "      <th></th>\n",
       "      <th>one</th>\n",
       "      <th>two</th>\n",
       "    </tr>\n",
       "  </thead>\n",
       "  <tbody>\n",
       "    <tr>\n",
       "      <th>b</th>\n",
       "      <td>2.0</td>\n",
       "      <td>2.0</td>\n",
       "    </tr>\n",
       "  </tbody>\n",
       "</table>\n",
       "</div>"
      ],
      "text/plain": [
       "   one  two\n",
       "b  2.0  2.0"
      ]
     },
<<<<<<< HEAD
     "execution_count": 38,
=======
     "execution_count": 45,
>>>>>>> a6d271dad3aa18c954c05b81e7954a93370994ed
     "metadata": {},
     "output_type": "execute_result"
    }
   ],
   "source": [
    "# so[(so['score'] >= 5) & (so['ans_name'] == 'Scott Boston')]\n",
    "df.loc[(df['one']>1) & (df['two']<3)] # select row conditional SELECT * FROM DF WHERE ONE > 1 AND TWO < 3"
   ]
  },
  {
   "cell_type": "code",
   "execution_count": 39,
   "metadata": {},
   "outputs": [
    {
     "data": {
      "text/html": [
       "<div>\n",
       "<style scoped>\n",
       "    .dataframe tbody tr th:only-of-type {\n",
       "        vertical-align: middle;\n",
       "    }\n",
       "\n",
       "    .dataframe tbody tr th {\n",
       "        vertical-align: top;\n",
       "    }\n",
       "\n",
       "    .dataframe thead th {\n",
       "        text-align: right;\n",
       "    }\n",
       "</style>\n",
       "<table border=\"1\" class=\"dataframe\">\n",
       "  <thead>\n",
       "    <tr style=\"text-align: right;\">\n",
       "      <th></th>\n",
       "      <th>one</th>\n",
       "      <th>two</th>\n",
       "    </tr>\n",
       "  </thead>\n",
       "  <tbody>\n",
       "    <tr>\n",
       "      <th>b</th>\n",
       "      <td>2.0</td>\n",
       "      <td>2.0</td>\n",
       "    </tr>\n",
       "    <tr>\n",
       "      <th>c</th>\n",
       "      <td>3.0</td>\n",
       "      <td>3.0</td>\n",
       "    </tr>\n",
       "  </tbody>\n",
       "</table>\n",
       "</div>"
      ],
      "text/plain": [
       "   one  two\n",
       "b  2.0  2.0\n",
       "c  3.0  3.0"
      ]
     },
     "execution_count": 39,
     "metadata": {},
     "output_type": "execute_result"
    }
   ],
   "source": [
    "df[df['one']>1] # same as before but shorter"
   ]
  },
  {
   "cell_type": "code",
   "execution_count": 40,
   "metadata": {},
   "outputs": [
    {
     "data": {
      "text/plain": [
       "b    2.0\n",
       "c    3.0\n",
       "Name: two, dtype: float64"
      ]
     },
     "execution_count": 40,
     "metadata": {},
     "output_type": "execute_result"
    }
   ],
   "source": [
    "df[df['one']>1]['two'] # SELECT TWO FROM DF WHERE ONE > 1"
   ]
  },
  {
   "cell_type": "code",
   "execution_count": 41,
   "metadata": {},
   "outputs": [
    {
     "data": {
      "text/html": [
       "<div>\n",
       "<style scoped>\n",
       "    .dataframe tbody tr th:only-of-type {\n",
       "        vertical-align: middle;\n",
       "    }\n",
       "\n",
       "    .dataframe tbody tr th {\n",
       "        vertical-align: top;\n",
       "    }\n",
       "\n",
       "    .dataframe thead th {\n",
       "        text-align: right;\n",
       "    }\n",
       "</style>\n",
       "<table border=\"1\" class=\"dataframe\">\n",
       "  <thead>\n",
       "    <tr style=\"text-align: right;\">\n",
       "      <th></th>\n",
       "      <th>a</th>\n",
       "      <th>b</th>\n",
       "      <th>c</th>\n",
       "      <th>d</th>\n",
       "    </tr>\n",
       "  </thead>\n",
       "  <tbody>\n",
       "    <tr>\n",
       "      <th>one</th>\n",
       "      <td>1.0</td>\n",
       "      <td>2.0</td>\n",
       "      <td>3.0</td>\n",
       "      <td>NaN</td>\n",
       "    </tr>\n",
       "    <tr>\n",
       "      <th>two</th>\n",
       "      <td>1.0</td>\n",
       "      <td>2.0</td>\n",
       "      <td>3.0</td>\n",
       "      <td>4.0</td>\n",
       "    </tr>\n",
       "  </tbody>\n",
       "</table>\n",
       "</div>"
      ],
      "text/plain": [
       "       a    b    c    d\n",
       "one  1.0  2.0  3.0  NaN\n",
       "two  1.0  2.0  3.0  4.0"
      ]
     },
     "execution_count": 41,
     "metadata": {},
     "output_type": "execute_result"
    }
   ],
   "source": [
    "#Transpose\n",
    "df[:].T"
   ]
  },
  {
   "cell_type": "code",
   "execution_count": null,
   "metadata": {},
   "outputs": [],
   "source": []
  }
 ],
 "metadata": {
  "kernelspec": {
   "display_name": "Python 3",
   "language": "python",
   "name": "python3"
  },
  "language_info": {
   "codemirror_mode": {
    "name": "ipython",
    "version": 3
   },
   "file_extension": ".py",
   "mimetype": "text/x-python",
   "name": "python",
   "nbconvert_exporter": "python",
   "pygments_lexer": "ipython3",
   "version": "3.7.3"
  }
 },
 "nbformat": 4,
 "nbformat_minor": 2
}
