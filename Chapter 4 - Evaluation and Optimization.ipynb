{
 "cells": [
  {
   "cell_type": "markdown",
   "metadata": {},
   "source": [
    "# Chapter 4 - Evaluation and Optimization"
   ]
  },
  {
   "cell_type": "code",
   "execution_count": 34,
   "metadata": {},
   "outputs": [
    {
     "name": "stdout",
     "output_type": "stream",
     "text": [
      "Populating the interactive namespace from numpy and matplotlib\n"
     ]
    }
   ],
   "source": [
    "%pylab inline\n",
    "import pandas as pandas"
   ]
  },
  {
   "cell_type": "markdown",
   "metadata": {},
   "source": [
    "We generate two inputs:\n",
    "* features – a matrix of input features\n",
    "* target – an array of target variables corresponding to those features"
   ]
  },
  {
   "cell_type": "code",
   "execution_count": 35,
   "metadata": {},
   "outputs": [],
   "source": [
    "features = rand(100,5)\n",
    "target = rand(100) > 0.5"
   ]
  },
  {
   "cell_type": "code",
   "execution_count": 36,
   "metadata": {},
   "outputs": [
    {
     "data": {
      "text/plain": [
       "array([False, False,  True,  True,  True, False, False,  True,  True,\n",
       "        True,  True, False, False,  True, False,  True, False,  True,\n",
       "       False, False,  True,  True, False, False, False, False, False,\n",
       "        True, False, False,  True, False, False, False, False, False,\n",
       "       False, False, False,  True,  True,  True, False,  True, False,\n",
       "        True,  True,  True,  True,  True,  True, False, False, False,\n",
       "        True, False, False,  True, False, False, False,  True, False,\n",
       "       False, False,  True,  True,  True,  True, False,  True, False,\n",
       "        True, False, False,  True, False, False,  True, False,  True,\n",
       "        True, False, False,  True, False,  True,  True,  True, False,\n",
       "        True, False, False, False, False,  True,  True,  True, False,\n",
       "        True])"
      ]
     },
     "execution_count": 36,
     "metadata": {},
     "output_type": "execute_result"
    }
   ],
   "source": [
    "target"
   ]
  },
  {
   "cell_type": "markdown",
   "metadata": {},
   "source": [
    "### The holdout method\n",
    "\n",
    "We divide into a randomized training and test set:"
   ]
  },
  {
   "cell_type": "code",
   "execution_count": 37,
   "metadata": {},
   "outputs": [
    {
     "data": {
      "text/plain": [
       "70"
      ]
     },
     "execution_count": 37,
     "metadata": {},
     "output_type": "execute_result"
    }
   ],
   "source": [
    "int(floor(0.7*100))"
   ]
  },
  {
   "cell_type": "code",
   "execution_count": 38,
   "metadata": {},
   "outputs": [],
   "source": [
    "N = features.shape[0]\n",
    "N_train = int(floor(0.7 * N))\n",
    "\n",
    "# Randomize index\n",
    "# Note: sometimes you want to retain the order in the dataset and skip this step\n",
    "# E.g. in the case of time-based datasets where you want to test on 'later' instances\n",
    "idx = random.permutation(N)\n",
    "\n",
    "# Split index\n",
    "idx_train = idx[:N_train]\n",
    "idx_test = idx[N_train:]\n",
    "\n",
    "# Break your data into training and testing subsets\n",
    "features_train = features[idx_train,:]\n",
    "target_train = target[idx_train]\n",
    "features_test = features[idx_test,:]\n",
    "target_test = target[idx_test]\n",
    "\n",
    "# Build, predict, evaluate (to be filled out)\n",
    "# model = train(features_train, target_train)\n",
    "# preds_test = predict(model, features_test)\n",
    "# accuracy = evaluate_acc(preds_test, target_test)"
   ]
  },
  {
   "cell_type": "code",
   "execution_count": 39,
   "metadata": {},
   "outputs": [
    {
     "name": "stdout",
     "output_type": "stream",
     "text": [
      "(70, 5)\n",
      "(30, 5)\n",
      "(70,)\n",
      "(30,)\n"
     ]
    }
   ],
   "source": [
    "print(features_train.shape)\n",
    "print(features_test.shape)\n",
    "print(target_train.shape)\n",
    "print(target_test.shape)"
   ]
  },
  {
   "cell_type": "markdown",
   "metadata": {},
   "source": [
    "### K-fold cross-validation"
   ]
  },
  {
   "cell_type": "code",
   "execution_count": 40,
   "metadata": {},
   "outputs": [
    {
     "name": "stdout",
     "output_type": "stream",
     "text": [
      "[0 9 0 3 2 6 4 0 2 6 2 5 8 7 0 1 8 8 4 0 4 2 0 6 2 1 4 5 0 4 9 0 0 8 3 9 7\n",
      " 4 8 6 5 9 7 2 0 4 7 1 4 4 8 8 9 8 9 7 3 6 1 4 4 7 7 6 1 5 5 3 7 6 8 8 1 8\n",
      " 0 1 6 3 0 2 5 7 5 2 9 0 9 8 4 0 8 6 0 3 6 9 5 6 7 6]\n",
      "Positions of 0 in fold array: [ 0  2  7 14 19 22 28 31 32 44 74 78 85 89 92]\n",
      "Positions of 1 in fold array: [15 25 47 58 64 72 75]\n",
      "Positions of 2 in fold array: [ 4  8 10 21 24 43 79 83]\n",
      "Positions of 3 in fold array: [ 3 34 56 67 77 93]\n",
      "Positions of 4 in fold array: [ 6 18 20 26 29 37 45 48 49 59 60 88]\n",
      "Positions of 5 in fold array: [11 27 40 65 66 80 82 96]\n",
      "Positions of 6 in fold array: [ 5  9 23 39 57 63 69 76 91 94 97 99]\n",
      "Positions of 7 in fold array: [13 36 42 46 55 61 62 68 81 98]\n",
      "Positions of 8 in fold array: [12 16 17 33 38 50 51 53 70 71 73 87 90]\n",
      "Positions of 9 in fold array: [ 1 30 35 41 52 54 84 86 95]\n"
     ]
    }
   ],
   "source": [
    "N = features.shape[0]\n",
    "K = 10 # number of folds\n",
    "\n",
    "preds_kfold = np.empty(N)\n",
    "folds = np.random.randint(0, K, size=N)\n",
    "print(folds)\n",
    "for idx in np.arange(K):\n",
    "\n",
    "    # For each fold, break your data into training and testing subsets\n",
    "    features_train = features[folds != idx,:]\n",
    "    target_train = target[folds != idx]\n",
    "    features_test = features[folds == idx,:]\n",
    "    \n",
    "    # Print the indices in each fold, for inspection\n",
    "    print(\"Positions of \"+str(idx)+\" in fold array: \", end=\"\")\n",
    "    print(nonzero(folds == idx)[0])\n",
    "\n",
    "    # Build and predict for CV fold (to be filled out)\n",
    "    # model = train(features_train, target_train)\n",
    "    # preds_kfold[folds == idx] = predict(model, features_test)\n",
    "    \n",
    "# accuracy = evaluate_acc(preds_kfold, target)"
   ]
  },
  {
   "cell_type": "markdown",
   "metadata": {},
   "source": [
    "### The ROC curve"
   ]
  },
  {
   "cell_type": "code",
   "execution_count": 41,
   "metadata": {},
   "outputs": [],
   "source": [
    "def roc_curve(true_labels, predicted_probs, n_points=100, pos_class=1):\n",
    "    thr = linspace(0,1,n_points)\n",
    "    tpr = zeros(n_points)\n",
    "    fpr = zeros(n_points)\n",
    "\n",
    "    pos = true_labels == pos_class\n",
    "    neg = logical_not(pos)\n",
    "    n_pos = count_nonzero(pos)\n",
    "    n_neg = count_nonzero(neg)\n",
    "      \n",
    "    for i,t in enumerate(thr):\n",
    "        tpr[i] = count_nonzero(logical_and(predicted_probs >= t, pos)) / n_pos\n",
    "        fpr[i] = count_nonzero(logical_and(predicted_probs >= t, neg)) / n_neg\n",
    "    \n",
    "    return fpr, tpr, thr\n"
   ]
  },
  {
   "cell_type": "code",
   "execution_count": 42,
   "metadata": {},
   "outputs": [
    {
     "data": {
      "text/plain": [
       "[<matplotlib.lines.Line2D at 0x2454c13d6a0>]"
      ]
     },
     "execution_count": 42,
     "metadata": {},
     "output_type": "execute_result"
    },
    {
     "data": {
      "image/png": "[encoded data removed]",
      "text/plain": [
       "<Figure size 432x288 with 1 Axes>"
      ]
     },
     "metadata": {
      "needs_background": "light"
     },
     "output_type": "display_data"
    }
   ],
   "source": [
    "# Randomly generated predictions should give us a diagonal ROC curve\n",
    "preds = rand(len(target))\n",
    "fpr, tpr, thr = roc_curve(target, preds, pos_class=True)\n",
    "plot(fpr, tpr)"
   ]
  },
  {
   "cell_type": "markdown",
   "metadata": {},
   "source": [
    "### The area under the ROC curve"
   ]
  },
  {
   "cell_type": "code",
   "execution_count": 43,
   "metadata": {},
   "outputs": [],
   "source": [
    "def auc(true_labels, predicted_labels, pos_class=1):\n",
    "    fpr, tpr, thr = roc_curve(true_labels, predicted_labels,\n",
    " pos_class=pos_class)\n",
    "    area = -trapz(tpr, x=fpr)\n",
    "    return area"
   ]
  },
  {
   "cell_type": "code",
   "execution_count": 44,
   "metadata": {},
   "outputs": [
    {
     "data": {
      "text/plain": [
       "0.3677536231884059"
      ]
     },
     "execution_count": 44,
     "metadata": {},
     "output_type": "execute_result"
    }
   ],
   "source": [
    "auc(target, preds, pos_class=True)"
   ]
  },
  {
   "cell_type": "markdown",
   "metadata": {},
   "source": [
    "### Multi-class classification"
   ]
  },
  {
   "cell_type": "code",
   "execution_count": 45,
   "metadata": {},
   "outputs": [],
   "source": [
    "d = pandas.read_csv(\"data/mnist_small.csv\")\n",
    "d_train = d[:int(0.8*len(d))]\n",
    "d_test = d[int(0.8*len(d)):]"
   ]
  },
  {
   "cell_type": "code",
   "execution_count": 46,
   "metadata": {},
   "outputs": [
    {
     "name": "stderr",
     "output_type": "stream",
     "text": [
      "C:\\ProgramData\\Anaconda3\\lib\\site-packages\\sklearn\\ensemble\\forest.py:246: FutureWarning: The default value of n_estimators will change from 10 in version 0.20 to 100 in 0.22.\n",
      "  \"10 in version 0.20 to 100 in 0.22.\", FutureWarning)\n"
     ]
    },
    {
     "data": {
      "text/plain": [
       "RandomForestClassifier(bootstrap=True, class_weight=None, criterion='gini',\n",
       "            max_depth=None, max_features='auto', max_leaf_nodes=None,\n",
       "            min_impurity_decrease=0.0, min_impurity_split=None,\n",
       "            min_samples_leaf=1, min_samples_split=2,\n",
       "            min_weight_fraction_leaf=0.0, n_estimators=10, n_jobs=None,\n",
       "            oob_score=False, random_state=None, verbose=0,\n",
       "            warm_start=False)"
      ]
     },
     "execution_count": 46,
     "metadata": {},
     "output_type": "execute_result"
    }
   ],
   "source": [
    "from sklearn.ensemble import RandomForestClassifier\n",
    "rf = RandomForestClassifier()\n",
    "rf.fit(d_train.drop('label', axis=1), d_train['label'])"
   ]
  },
  {
   "cell_type": "code",
   "execution_count": 47,
   "metadata": {},
   "outputs": [],
   "source": [
    "from sklearn.metrics import confusion_matrix\n",
    "preds = rf.predict(d_test.drop('label', axis=1))\n",
    "cm = confusion_matrix(d_test['label'], preds)"
   ]
  },
  {
   "cell_type": "code",
   "execution_count": 57,
   "metadata": {},
   "outputs": [
    {
     "data": {
      "text/plain": [
       "<matplotlib.colorbar.Colorbar at 0x2454c369080>"
      ]
     },
     "execution_count": 57,
     "metadata": {},
     "output_type": "execute_result"
    },
    {
     "data": {
      "image/png": "[encoded data removed]",
      "text/plain": [
       "<Figure size 288x288 with 2 Axes>"
      ]
     },
     "metadata": {
      "needs_background": "light"
     },
     "output_type": "display_data"
    }
   ],
   "source": [
    "matshow(cm, cmap='Greys')\n",
    "colorbar()\n",
    "#savefig(\"figures/figure-4.19.eps\", format='eps')"
   ]
  },
  {
   "cell_type": "markdown",
   "metadata": {},
   "source": [
    "### The root-mean-square error"
   ]
  },
  {
   "cell_type": "code",
   "execution_count": 67,
   "metadata": {},
   "outputs": [],
   "source": [
    "def rmse(true_values, predicted_values):\n",
    "    n = len(true_values)\n",
    "    residuals = 0\n",
    "    for i in range(n):\n",
    "        residuals += (true_values[i] - predicted_values[i])**2.\n",
    "    return np.sqrt(residuals/n)"
   ]
  },
  {
   "cell_type": "code",
   "execution_count": 68,
   "metadata": {},
   "outputs": [
    {
     "data": {
      "text/plain": [
       "0.42434753608993897"
      ]
     },
     "execution_count": 68,
     "metadata": {},
     "output_type": "execute_result"
    }
   ],
   "source": [
    "rmse(rand(10), rand(10))"
   ]
  },
  {
   "cell_type": "markdown",
   "metadata": {},
   "source": [
    "### The R-squared error"
   ]
  },
  {
   "cell_type": "code",
   "execution_count": 69,
   "metadata": {},
   "outputs": [],
   "source": [
    "def r2(true_values, predicted_values):\n",
    "    n = len(true_values)\n",
    "    mean = np.mean(true_values)\n",
    "    residuals = 0\n",
    "    total = 0\n",
    "    for i in range(n):\n",
    "        residuals += (true_values[i] - predicted_values[i])**2.\n",
    "        total += (true_values[i] - mean)**2.\n",
    "    return 1.0 - residuals/total"
   ]
  },
  {
   "cell_type": "code",
   "execution_count": 70,
   "metadata": {},
   "outputs": [
    {
     "data": {
      "text/plain": [
       "0.9787809331729638"
      ]
     },
     "execution_count": 70,
     "metadata": {},
     "output_type": "execute_result"
    }
   ],
   "source": [
    "r2(arange(10)+rand(), arange(10)+rand(10))"
   ]
  },
  {
   "cell_type": "markdown",
   "metadata": {},
   "source": [
    "### Grid search with kernel-SVM model\n",
    "\n",
    "Importing modules:"
   ]
  },
  {
   "cell_type": "code",
   "execution_count": 71,
   "metadata": {},
   "outputs": [],
   "source": [
    "from sklearn.metrics import roc_auc_score\n",
    "from sklearn.svm import SVC"
   ]
  },
  {
   "cell_type": "markdown",
   "metadata": {},
   "source": [
    "Loading data and performang poor-mans feature engineering:"
   ]
  },
  {
   "cell_type": "code",
   "execution_count": 77,
   "metadata": {},
   "outputs": [],
   "source": [
    "d = pandas.read_csv(\"data/titanic.csv\")\n",
    "\n",
    "# Target\n",
    "y = d[\"Survived\"]\n",
    "\n",
    "# Features\n",
    "X = d.drop([\"Survived\", \"PassengerId\", \"Cabin\",\"Ticket\",\"Name\", \"Fare\"], axis=1)\n",
    "X['Sex'] = list(map(lambda x: 1 if x==\"male\" else 0, X['Sex']))\n",
    "X['Embarked-Q'] = list(map(lambda x: 1 if x==\"Q\" else 0, X['Embarked']))\n",
    "X['Embarked-C'] = list(map(lambda x: 1 if x==\"C\" else 0, X['Embarked']))\n",
    "X['Embarked-S'] = list(map(lambda x: 1 if x==\"S\" else 0, X['Embarked']))\n",
    "X = X.drop([\"Embarked\"], axis=1)\n",
    "X = X.fillna(-1)"
   ]
  },
  {
   "cell_type": "code",
   "execution_count": 78,
   "metadata": {},
   "outputs": [
    {
     "data": {
      "text/html": [
       "<div>\n",
       "<style scoped>\n",
       "    .dataframe tbody tr th:only-of-type {\n",
       "        vertical-align: middle;\n",
       "    }\n",
       "\n",
       "    .dataframe tbody tr th {\n",
       "        vertical-align: top;\n",
       "    }\n",
       "\n",
       "    .dataframe thead th {\n",
       "        text-align: right;\n",
       "    }\n",
       "</style>\n",
       "<table border=\"1\" class=\"dataframe\">\n",
       "  <thead>\n",
       "    <tr style=\"text-align: right;\">\n",
       "      <th></th>\n",
       "      <th>Pclass</th>\n",
       "      <th>Sex</th>\n",
       "      <th>Age</th>\n",
       "      <th>SibSp</th>\n",
       "      <th>Parch</th>\n",
       "      <th>Embarked-Q</th>\n",
       "      <th>Embarked-C</th>\n",
       "      <th>Embarked-S</th>\n",
       "    </tr>\n",
       "  </thead>\n",
       "  <tbody>\n",
       "    <tr>\n",
       "      <th>0</th>\n",
       "      <td>3</td>\n",
       "      <td>1</td>\n",
       "      <td>22.0</td>\n",
       "      <td>1</td>\n",
       "      <td>0</td>\n",
       "      <td>0</td>\n",
       "      <td>0</td>\n",
       "      <td>1</td>\n",
       "    </tr>\n",
       "    <tr>\n",
       "      <th>1</th>\n",
       "      <td>1</td>\n",
       "      <td>0</td>\n",
       "      <td>38.0</td>\n",
       "      <td>1</td>\n",
       "      <td>0</td>\n",
       "      <td>0</td>\n",
       "      <td>1</td>\n",
       "      <td>0</td>\n",
       "    </tr>\n",
       "    <tr>\n",
       "      <th>2</th>\n",
       "      <td>3</td>\n",
       "      <td>0</td>\n",
       "      <td>26.0</td>\n",
       "      <td>0</td>\n",
       "      <td>0</td>\n",
       "      <td>0</td>\n",
       "      <td>0</td>\n",
       "      <td>1</td>\n",
       "    </tr>\n",
       "    <tr>\n",
       "      <th>3</th>\n",
       "      <td>1</td>\n",
       "      <td>0</td>\n",
       "      <td>35.0</td>\n",
       "      <td>1</td>\n",
       "      <td>0</td>\n",
       "      <td>0</td>\n",
       "      <td>0</td>\n",
       "      <td>1</td>\n",
       "    </tr>\n",
       "    <tr>\n",
       "      <th>4</th>\n",
       "      <td>3</td>\n",
       "      <td>1</td>\n",
       "      <td>35.0</td>\n",
       "      <td>0</td>\n",
       "      <td>0</td>\n",
       "      <td>0</td>\n",
       "      <td>0</td>\n",
       "      <td>1</td>\n",
       "    </tr>\n",
       "  </tbody>\n",
       "</table>\n",
       "</div>"
      ],
      "text/plain": [
       "   Pclass  Sex   Age  SibSp  Parch  Embarked-Q  Embarked-C  Embarked-S\n",
       "0       3    1  22.0      1      0           0           0           1\n",
       "1       1    0  38.0      1      0           0           1           0\n",
       "2       3    0  26.0      0      0           0           0           1\n",
       "3       1    0  35.0      1      0           0           0           1\n",
       "4       3    1  35.0      0      0           0           0           1"
      ]
     },
     "execution_count": 78,
     "metadata": {},
     "output_type": "execute_result"
    }
   ],
   "source": [
    "X.head(5)"
   ]
  },
  {
   "cell_type": "markdown",
   "metadata": {},
   "source": [
    "Performing grid-search to find the optimal hyper-parameters:"
   ]
  },
  {
   "cell_type": "code",
   "execution_count": 79,
   "metadata": {},
   "outputs": [],
   "source": [
    "# grid of (gamma, C) values to try \n",
    "gam_vec, cost_vec = np.meshgrid(np.logspace(0.01, 0.1, 11),\n",
    "                     np.linspace(1, 5, 10))"
   ]
  },
  {
   "cell_type": "code",
   "execution_count": 80,
   "metadata": {},
   "outputs": [
    {
     "name": "stdout",
     "output_type": "stream",
     "text": [
      "Maximum = 0.760\n",
      "Tuning Parameters: (gamma = 1.14, C = 4.11)\n"
     ]
    }
   ],
   "source": [
    "# grid of (gamma, C) values to try \n",
    "#gam_vec, cost_vec = np.meshgrid(np.logspace(0.01, 0.1, 11),\n",
    "#                     np.linspace(1, 5, 10))\n",
    "\n",
    "AUC_all = [] # initialize empty array to store AUC results\n",
    "\n",
    "# set up cross-validation folds\n",
    "N = len(y)\n",
    "K = 10 # number of cross-validation folds\n",
    "folds = np.random.randint(0, K, size=N)\n",
    "\n",
    "# search over every value of the grid\n",
    "for param_ind in np.arange(len(gam_vec.ravel())):\n",
    "\n",
    "    # initialize cross-validation predictions\n",
    "    y_cv_pred = np.empty(N)\n",
    "\n",
    "    # loop through the cross-validation folds\n",
    "    for ii in np.arange(K):\n",
    "        # break your data into training and testing subsets\n",
    "        # X_train = X.ix[folds != ii,:]\n",
    "        # y_train = y.ix[folds != ii]\n",
    "        # X_test = X.ix[folds == ii,:]\n",
    "        X_train = X.iloc[folds != ii,:]\n",
    "        y_train = y.iloc[folds != ii]\n",
    "        X_test = X.iloc[folds == ii,:]\n",
    "        #X_train = X.iloc[folds, :]\n",
    "        #X_train = X_train.drop(ii)\n",
    "        #y_train = y.iloc[folds]\n",
    "        #y_train = y.drop(ii)\n",
    "        #X_test = X.iloc[folds, :]\n",
    "        #X_test = X_test[folds == ii]\n",
    "        \n",
    "        # build a model on the training set\n",
    "        model = SVC(gamma=gam_vec.ravel()[param_ind], C=cost_vec.ravel()[param_ind])\n",
    "        model.fit(X_train, y_train)\n",
    "\n",
    "        # generate and store model predictions on the testing set\n",
    "        y_cv_pred[folds == ii] = model.predict(X_test)\n",
    "\n",
    "    # evaluate the AUC of the predictions\n",
    "    AUC_all.append(roc_auc_score(y, y_cv_pred))\n",
    "\n",
    "indmax = np.argmax(AUC_all)\n",
    "print(\"Maximum = %.3f\" % (np.max(AUC_all)))\n",
    "print(\"Tuning Parameters: (gamma = %.2f, C = %.2f)\" % (gam_vec.ravel()[indmax], cost_vec.ravel()[indmax]))"
   ]
  },
  {
   "cell_type": "code",
   "execution_count": 81,
   "metadata": {},
   "outputs": [
    {
     "name": "stdout",
     "output_type": "stream",
     "text": [
      "[9 9 2 6 4 9 9 5 8 9 7 4 4 1 5 3 7 5 6 7 8 9 6 9 2 5 7 4 8 4 9 7 9 1 4 4 1\n",
      " 3 1 5 5 8 6 8 3 8 8 7 6 2 3 4 5 3 9 1 9 1 4 8 7 1 4 5 5 9 4 6 9 1 0 6 7 8\n",
      " 6 6 4 4 1 7 7 6 1 3 5 8 5 6 7 0 7 5 7 2 1 9 8 3 6 2 4 6 3 6 7 8 3 9 7 6 9\n",
      " 2 7 8 1 8 9 4 8 9 5 5 0 4 8 2 2 4 6 9 8 4 7 4 3 4 9 1 8 2 8 4 3 5 3 4 5 9\n",
      " 3 3 9 6 0 4 2 8 3 8 9 6 0 5 3 8 1 0 9 2 7 9 8 1 8 4 8 1 3 3 2 4 3 5 6 1 3\n",
      " 1 6 6 7 2 9 9 7 5 0 6 9 6 7 8 1 1 4 0 7 8 9 7 6 3 9 2 8 2 0 6 5 5 4 7 1 5\n",
      " 2 6 2 0 7 6 1 9 5 1 8 0 9 7 8 9 3 2 3 6 3 5 5 6 2 2 3 6 6 6 2 7 8 3 5 2 9\n",
      " 6 3 3 1 8 9 6 8 6 9 4 5 7 8 0 4 4 8 6 8 0 2 2 5 7 1 3 2 2 0 0 4 0 1 0 5 7\n",
      " 7 1 5 1 6 9 2 8 3 3 8 9 9 1 9 2 6 5 8 9 7 7 9 7 5 9 0 3 9 9 7 1 8 4 2 0 1\n",
      " 7 2 8 0 4 5 7 3 8 3 5 8 4 7 1 5 4 2 1 2 5 1 6 1 7 3 3 9 1 0 6 1 5 9 7 5 7\n",
      " 2 8 4 8 9 4 9 2 7 7 2 3 0 4 6 9 2 0 1 9 5 1 8 0 5 1 8 2 5 6 9 4 7 6 0 3 1\n",
      " 8 6 6 0 0 0 5 0 8 5 3 0 1 1 9 4 3 7 5 9 1 1 0 3 4 5 8 5 1 6 7 8 2 3 0 5 0\n",
      " 1 5 7 1 0 0 8 2 3 6 1 3 7 9 6 5 1 1 2 6 9 6 6 4 2 9 9 4 4 0 5 1 5 7 5 1 9\n",
      " 5 3 3 3 6 8 0 2 2 8 6 2 0 6 1 4 7 5 5 3 3 3 7 2 7 7 4 7 1 8 8 2 5 7 2 2 6\n",
      " 3 4 4 2 5 9 2 3 5 5 2 1 0 0 3 0 3 0 7 1 3 6 4 0 9 9 5 4 9 9 4 1 3 7 6 3 4\n",
      " 8 9 4 1 4 2 7 9 8 1 9 0 3 8 9 1 4 7 5 5 1 9 1 2 5 3 7 3 0 2 7 2 5 8 2 8 4\n",
      " 1 9 1 4 0 5 9 4 1 4 1 7 0 6 7 2 8 1 4 2 8 7 6 7 3 6 1 4 0 4 0 4 0 0 4 6 5\n",
      " 1 4 0 0 7 5 7 4 1 2 7 1 8 2 0 6 0 7 8 0 9 1 0 2 0 2 9 9 8 7 7 4 9 6 6 0 2\n",
      " 1 6 0 0 9 5 5 9 6 7 3 4 7 2 9 2 5 2 8 0 9 7 6 7 4 5 6 5 1 2 9 8 3 5 2 5 6\n",
      " 4 9 7 9 3 1 0 3 0 9 3 3 5 0 9 1 9 4 0 0 6 0 4 9 9 1 8 7 2 2 7 3 2 4 4 1 7\n",
      " 7 9 5 4 9 5 0 9 9 2 7 2 9 8 4 9 9 9 2 2 7 3 4 1 4 4 1 2 9 2 5 4 5 0 8 6 5\n",
      " 0 0 3 1 2 8 9 8 0 9 6 1 9 9 1 7 3 4 4 2 8 1 8 3 5 2 2 4 1 9 7 4 6 9 9 2 0\n",
      " 2 7 0 1 7 3 1 2 5 0 9 6 6 3 6 5 1 0 6 0 6 5 1 9 9 4 5 7 6 9 6 0 1 3 3 5 8\n",
      " 6 4 9 4 4 4 1 9 2 7 7 9 3 7 1 7 2 9 6 2 4 2 0 6 0 4 9 3 5 8 0 8 2 4 7 1 3\n",
      " 6 9 2]\n",
      "    Pclass  Sex   Age  SibSp  Parch  Embarked-Q  Embarked-C  Embarked-S\n",
      "0        3    1  22.0      1      0           0           0           1\n",
      "1        1    0  38.0      1      0           0           1           0\n",
      "3        1    0  35.0      1      0           0           0           1\n",
      "4        3    1  35.0      0      0           0           0           1\n",
      "5        3    1  -1.0      0      0           1           0           0\n",
      "6        1    1  54.0      0      0           0           0           1\n",
      "7        3    1   2.0      3      1           0           0           1\n",
      "8        3    0  27.0      0      2           0           0           1\n",
      "9        2    0  14.0      1      0           0           1           0\n",
      "10       3    0   4.0      1      1           0           0           1\n",
      "11       1    0  58.0      0      0           0           0           1\n",
      "12       3    1  20.0      0      0           0           0           1\n",
      "13       3    1  39.0      1      5           0           0           1\n",
      "14       3    0  14.0      0      0           0           0           1\n",
      "15       2    0  55.0      0      0           0           0           1\n",
      "16       3    1   2.0      4      1           1           0           0\n",
      "17       2    1  -1.0      0      0           0           0           1\n",
      "18       3    0  31.0      1      0           0           0           1\n",
      "19       3    0  -1.0      0      0           0           1           0\n",
      "20       2    1  35.0      0      0           0           0           1\n",
      "     Pclass  Sex   Age  SibSp  Parch  Embarked-Q  Embarked-C  Embarked-S\n",
      "2         3    0  26.0      0      0           0           0           1\n",
      "24        3    0   8.0      3      1           0           0           1\n",
      "49        3    0  18.0      1      0           0           0           1\n",
      "93        3    1  26.0      1      2           0           0           1\n",
      "99        2    1  34.0      1      0           0           0           1\n",
      "111       3    0  14.5      1      0           0           1           0\n",
      "125       3    1  12.0      1      0           0           1           0\n",
      "126       3    1  -1.0      0      0           1           0           0\n",
      "139       1    1  24.0      0      0           0           1           0\n",
      "154       3    1  -1.0      0      0           0           0           1\n",
      "167       3    0  45.0      1      4           0           0           1\n",
      "178       2    1  30.0      0      0           0           0           1\n",
      "189       3    1  36.0      0      0           0           0           1\n",
      "211       2    0  35.0      0      0           0           0           1\n",
      "213       2    1  30.0      0      0           0           0           1\n",
      "222       3    1  51.0      0      0           0           0           1\n",
      "224       1    1  38.0      1      0           0           0           1\n",
      "239       2    1  33.0      0      0           0           0           1\n",
      "246       3    0  25.0      0      0           0           0           1\n",
      "247       2    0  24.0      0      2           0           0           1\n"
     ]
    }
   ],
   "source": [
    "ix=2\n",
    "print(folds)\n",
    "# Train subset taking all rows except the ones with index == to the positions of ix in the folds array\n",
    "X_train = X.iloc[folds!=ix,:]\n",
    "print(X_train.head(20))\n",
    "X_test = X.iloc[folds==ix,:]\n",
    "print(X_test.head(20))"
   ]
  },
  {
   "cell_type": "code",
   "execution_count": 101,
   "metadata": {},
   "outputs": [
    {
     "data": {
      "text/plain": [
       "0.7490489130434783"
      ]
     },
     "execution_count": 101,
     "metadata": {},
     "output_type": "execute_result"
    }
   ],
   "source": [
    "final_model = SVC(gamma=1.02, C=5.0)\n",
    "X_train = X[:int(0.8*len(X))]\n",
    "Y_train = y[:int(0.8*len(y))]\n",
    "X_test = X[int(0.8*len(X)):]\n",
    "Y_test = y[int(0.8*len(y)):]\n",
    "final_model.fit(X_train, Y_train)\n",
    "y_pred = final_model.predict(X_test)\n",
    "roc_auc_score(Y_test, y_pred)"
   ]
  },
  {
   "cell_type": "markdown",
   "metadata": {},
   "source": [
    "Plotting the contours of the parameter performance:"
   ]
  },
  {
   "cell_type": "code",
   "execution_count": 11,
   "metadata": {},
   "outputs": [
    {
     "data": {
      "image/png": "[encoded data removed]",
      "text/plain": [
       "<Figure size 432x288 with 2 Axes>"
      ]
     },
     "metadata": {
      "needs_background": "light"
     },
     "output_type": "display_data"
    }
   ],
   "source": [
    "AUC_grid = np.array(AUC_all).reshape(gam_vec.shape)\n",
    "\n",
    "contourf(gam_vec, cost_vec, AUC_grid, 20, cmap='Greys')\n",
    "xlabel(\"kernel coefficient, gamma\")\n",
    "ylabel(\"penalty parameter, C\")\n",
    "colorbar()\n",
    "savefig(\"figures/figure-4.25.eps\", format='eps')"
   ]
  },
  {
   "cell_type": "code",
   "execution_count": null,
   "metadata": {
    "collapsed": true
   },
   "outputs": [],
   "source": []
  }
 ],
 "metadata": {
  "kernelspec": {
   "display_name": "Python 3",
   "language": "python",
   "name": "python3"
  },
  "language_info": {
   "codemirror_mode": {
    "name": "ipython",
    "version": 3
   },
   "file_extension": ".py",
   "mimetype": "text/x-python",
   "name": "python",
   "nbconvert_exporter": "python",
   "pygments_lexer": "ipython3",
   "version": "3.7.3"
  }
 },
 "nbformat": 4,
 "nbformat_minor": 1
}
